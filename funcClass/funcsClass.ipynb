{
  "cells": [
    {
      "cell_type": "markdown",
      "metadata": {
        "pycharm": {}
      },
      "source": "# Practical implementation CESI Model Integration Environment\n\nThis is a practical implementation of the conceptual thoughts and schematic framework discussed in document [[ref]](./CESIModelling.pdf). The main class as:\n\n\u003cp align\u003d\"center\"\u003e\n  \u003cimg width\u003d\"600\" height\u003d\"200\" src\u003d\"MainFunction.png\"\u003e\n\u003c/p\u003e\n\nThese codes implement the suggested skeleton functions including:\n\n    1. [x] solve()\n    2. [x] getSets()\n    3. [*] getInput()\n    4. [*] getOutput()\n    5. [x] getValue()\n    6. [*] getDerivative/getSensitivity()\n\nThe implemntation is *not* exactly the same as the conceptual idea. Main differences are:\n\n- (1) and (2) are replace with \n - getSets() and getParameters()\n \nsince sets is part of inputs, while inputs normally are the sets and parameters\n \n \n- the (4) is replaced with  \n - getVariable() and getObjective()\n\n\n- (5) is a general function to get the value from handler of entities\n \nThe schematic illustration of entities structure can be shown as:\n\n\u003cp align\u003d\"center\"\u003e\n  \u003cimg width\u003d\"600\" height\u003d\"200\" src\u003d\"SchameticDataStructure.png\"\u003e\n\u003c/p\u003e\n\n---\nAddtional function which is reckoned as of importance is also included:\n1. option()\n\t-  set global setting. for example it could be the solving options\n... \n\nCreated by Dr. W SUN on 03/08/2019"
    },
    {
      "cell_type": "code",
      "execution_count": 15,
      "metadata": {
        "pycharm": {}
      },
      "outputs": [],
      "source": [
        "# install python API of language that the model is built on\n",
        "# In this example, it\u0027s AMPL python API\n",
        "import os\n",
        "os.environ[\u0027PATH\u0027] +\u003d os.pathsep + r\u0027c:\\ampl.mswin64\u0027"
      ]
    },
    {
      "cell_type": "code",
      "execution_count": 16,
      "metadata": {
        "pycharm": {}
      },
      "outputs": [],
      "source": [
        "# load API and intialisaiton the linkgae\n",
        "from amplpy import AMPL\n",
        "ampl \u003d AMPL()"
      ]
    },
    {
      "cell_type": "markdown",
      "metadata": {
        "pycharm": {}
      },
      "source": [
        "## option(): set globle setting"
      ]
    },
    {
      "cell_type": "code",
      "execution_count": 17,
      "metadata": {
        "pycharm": {}
      },
      "outputs": [],
      "source": [
        "# for example it could be the solving options\n",
        "ampl.option[\u0027solver\u0027] \u003d \u0027gurobi\u0027\n",
        "ampl.option[\u0027gurobi_options\u0027] \u003d \u0027solnsens 1\u0027"
      ]
    },
    {
      "cell_type": "code",
      "execution_count": 18,
      "metadata": {
        "pycharm": {}
      },
      "outputs": [
        {
          "name": "stdout",
          "output_type": "stream",
          "text": [
            "SUBPROBLEM\n"
          ]
        }
      ],
      "source": [
        "# read the model instance (model instance: the model with populated data)\n",
        "ampl.cd(\u0027../Workplace/MathTrial/Julia-AMPL-master/julia_ampl/ampl\u0027)\n",
        "ampl.read(\"Operational-ini.run\")"
      ]
    },
    {
      "cell_type": "markdown",
      "metadata": {
        "pycharm": {
          "metadata": false,
          "name": "#%% md\n"
        }
      },
      "source": [
        "![alt text](uml_ampl.png#center)"
      ]
    },
    {
      "cell_type": "markdown",
      "metadata": {
        "pycharm": {}
      },
      "source": [
        "## getInputs()"
      ]
    },
    {
      "cell_type": "code",
      "execution_count": 19,
      "metadata": {
        "pycharm": {}
      },
      "outputs": [
        {
          "name": "stdout",
          "output_type": "stream",
          "text": [
            "list all input set:\n",
            "sF\n",
            "sG\n",
            "sT\n"
          ]
        }
      ],
      "source": [
        "# the entities of the model instance\n",
        "# entity such as decleared set, parameter or variable (they are predefined entities)\n",
        "\n",
        "# sets from inputData\n",
        "print(\u0027list all input set:\u0027) \n",
        "for s in ampl.getSets():\n",
        "    print(s[0])"
      ]
    },
    {
      "cell_type": "code",
      "execution_count": 20,
      "metadata": {
        "pycharm": {}
      },
      "outputs": [
        {
          "name": "stdout",
          "output_type": "stream",
          "text": [
            "list all input parameter:\n",
            "Alpha\n",
            "CG\n",
            "Cfuel\n",
            "Dem\n",
            "DiscCost\n",
            "EG\n",
            "VrOM\n",
            "W\n",
            "f\n",
            "pG_ub\n"
          ]
        }
      ],
      "source": [
        "# parameters from inputData\n",
        "print(\u0027list all input parameter:\u0027)\n",
        "for e in ampl.getParameters():\n",
        "    print(e[0])"
      ]
    },
    {
      "cell_type": "markdown",
      "metadata": {
        "pycharm": {}
      },
      "source": [
        "## getOuputs()"
      ]
    },
    {
      "cell_type": "code",
      "execution_count": 21,
      "metadata": {
        "pycharm": {}
      },
      "outputs": [
        {
          "name": "stdout",
          "output_type": "stream",
          "text": [
            "list all ouput:\n",
            "pG\n",
            "pG_max\n",
            "shed\n"
          ]
        }
      ],
      "source": [
        "# get deleared output, such as variable, etc\n",
        "# variable from from model output\n",
        "print(\u0027list all ouput:\u0027)\n",
        "for v in ampl.getVariables():\n",
        "    print(v[0])"
      ]
    },
    {
      "cell_type": "markdown",
      "metadata": {
        "pycharm": {}
      },
      "source": [
        "## getProperties(): field/properties of entities"
      ]
    },
    {
      "cell_type": "code",
      "execution_count": 22,
      "metadata": {
        "pycharm": {}
      },
      "outputs": [
        {
          "data": {
            "text/plain": [
              "(\u0027index0\u0027, \u0027Dem\u0027)"
            ]
          },
          "execution_count": 22,
          "metadata": {},
          "output_type": "execute_result"
        }
      ],
      "source": [
        "# for example, input data (set and parameters)\n",
        "# get its field\n",
        "ampl.getParameter(\u0027Dem\u0027).getValues().getHeaders()"
      ]
    },
    {
      "cell_type": "code",
      "execution_count": 23,
      "metadata": {
        "pycharm": {}
      },
      "outputs": [
        {
          "data": {
            "text/plain": [
              "[\u0027sT\u0027]"
            ]
          },
          "execution_count": 23,
          "metadata": {},
          "output_type": "execute_result"
        }
      ],
      "source": [
        "# get indexed set name\n",
        "ampl.getParameter(\u0027Dem\u0027).getIndexingSets()"
      ]
    },
    {
      "cell_type": "code",
      "execution_count": 24,
      "metadata": {
        "pycharm": {}
      },
      "outputs": [
        {
          "data": {
            "text/plain": [
              "[\u0027sG\u0027, \u0027sT\u0027]"
            ]
          },
          "execution_count": 24,
          "metadata": {},
          "output_type": "execute_result"
        }
      ],
      "source": [
        "ampl.getVariable(\u0027pG\u0027).getIndexingSets()"
      ]
    },
    {
      "cell_type": "markdown",
      "metadata": {
        "pycharm": {}
      },
      "source": [
        "## getValue(): value of entities"
      ]
    },
    {
      "cell_type": "code",
      "execution_count": 25,
      "metadata": {
        "pycharm": {}
      },
      "outputs": [
        {
          "data": {
            "text/plain": [
              "[\u0027Gnucl\u0027, \u0027Gcoal\u0027, \u0027Gccgt\u0027, \u0027Gocgt\u0027, \u0027Gdies\u0027]"
            ]
          },
          "execution_count": 25,
          "metadata": {},
          "output_type": "execute_result"
        }
      ],
      "source": [
        "ampl.set[\u0027sG\u0027].getValues().toList()"
      ]
    },
    {
      "cell_type": "markdown",
      "metadata": {
        "pycharm": {}
      },
      "source": [
        "## solve(): solve the model"
      ]
    },
    {
      "cell_type": "code",
      "execution_count": 26,
      "metadata": {
        "pycharm": {}
      },
      "outputs": [
        {
          "name": "stdout",
          "output_type": "stream",
          "text": [
            "Gurobi 8.1.0: solnsens 1\r\n",
            "Gurobi 8.1.0: optimal solution; objective 5340643738\n",
            "730 simplex iterations\n",
            "\n",
            "suffix sensublo OUT;\n",
            "suffix sensubhi OUT;\n",
            "suffix sensobjlo OUT;\n",
            "suffix sensobjhi OUT;\n",
            "suffix senslblo OUT;\n",
            "suffix senslbhi OUT;\n",
            "suffix sensrhslo OUT;\n",
            "suffix sensrhshi OUT;\n"
          ]
        }
      ],
      "source": [
        "# run(`ampl Operational.run`) # run operational subproblem in ampl\n",
        "ampl.solve()"
      ]
    },
    {
      "cell_type": "code",
      "execution_count": 27,
      "metadata": {
        "pycharm": {
          "metadata": false,
          "name": "#%%\n"
        }
      },
      "outputs": [
        {
          "data": {
            "text/plain": [
              "5340643738.127462"
            ]
          },
          "execution_count": 27,
          "metadata": {},
          "output_type": "execute_result"
        }
      ],
      "source": [
        "ampl.getValue(\u0027oper\u0027)"
      ]
    },
    {
      "cell_type": "code",
      "execution_count": 30,
      "metadata": {
        "pycharm": {
          "metadata": false,
          "name": "#%%\n"
        }
      },
      "outputs": [
        {
          "data": {
            "text/html": [
              "\u003cdiv\u003e\n",
              "\u003cstyle scoped\u003e\n",
              "    .dataframe tbody tr th:only-of-type {\n",
              "        vertical-align: middle;\n",
              "    }\n",
              "\n",
              "    .dataframe tbody tr th {\n",
              "        vertical-align: top;\n",
              "    }\n",
              "\n",
              "    .dataframe thead th {\n",
              "        text-align: right;\n",
              "    }\n",
              "\u003c/style\u003e\n",
              "\u003ctable border\u003d\"1\" class\u003d\"dataframe\"\u003e\n",
              "  \u003cthead\u003e\n",
              "    \u003ctr style\u003d\"text-align: right;\"\u003e\n",
              "      \u003cth\u003e\u003c/th\u003e\n",
              "      \u003cth\u003epG.val\u003c/th\u003e\n",
              "    \u003c/tr\u003e\n",
              "  \u003c/thead\u003e\n",
              "  \u003ctbody\u003e\n",
              "    \u003ctr\u003e\n",
              "      \u003cth\u003e(Gccgt, 1.0)\u003c/th\u003e\n",
              "      \u003ctd\u003e0.000000\u003c/td\u003e\n",
              "    \u003c/tr\u003e\n",
              "    \u003ctr\u003e\n",
              "      \u003cth\u003e(Gccgt, 2.0)\u003c/th\u003e\n",
              "      \u003ctd\u003e0.000000\u003c/td\u003e\n",
              "    \u003c/tr\u003e\n",
              "    \u003ctr\u003e\n",
              "      \u003cth\u003e(Gccgt, 3.0)\u003c/th\u003e\n",
              "      \u003ctd\u003e0.000000\u003c/td\u003e\n",
              "    \u003c/tr\u003e\n",
              "    \u003ctr\u003e\n",
              "      \u003cth\u003e(Gccgt, 4.0)\u003c/th\u003e\n",
              "      \u003ctd\u003e0.000000\u003c/td\u003e\n",
              "    \u003c/tr\u003e\n",
              "    \u003ctr\u003e\n",
              "      \u003cth\u003e(Gccgt, 5.0)\u003c/th\u003e\n",
              "      \u003ctd\u003e0.000000\u003c/td\u003e\n",
              "    \u003c/tr\u003e\n",
              "    \u003ctr\u003e\n",
              "      \u003cth\u003e(Gccgt, 6.0)\u003c/th\u003e\n",
              "      \u003ctd\u003e0.000000\u003c/td\u003e\n",
              "    \u003c/tr\u003e\n",
              "    \u003ctr\u003e\n",
              "      \u003cth\u003e(Gccgt, 7.0)\u003c/th\u003e\n",
              "      \u003ctd\u003e0.000000\u003c/td\u003e\n",
              "    \u003c/tr\u003e\n",
              "    \u003ctr\u003e\n",
              "      \u003cth\u003e(Gccgt, 8.0)\u003c/th\u003e\n",
              "      \u003ctd\u003e0.000000\u003c/td\u003e\n",
              "    \u003c/tr\u003e\n",
              "    \u003ctr\u003e\n",
              "      \u003cth\u003e(Gccgt, 9.0)\u003c/th\u003e\n",
              "      \u003ctd\u003e0.000000\u003c/td\u003e\n",
              "    \u003c/tr\u003e\n",
              "    \u003ctr\u003e\n",
              "      \u003cth\u003e(Gccgt, 10.0)\u003c/th\u003e\n",
              "      \u003ctd\u003e0.000000\u003c/td\u003e\n",
              "    \u003c/tr\u003e\n",
              "    \u003ctr\u003e\n",
              "      \u003cth\u003e(Gccgt, 11.0)\u003c/th\u003e\n",
              "      \u003ctd\u003e0.000000\u003c/td\u003e\n",
              "    \u003c/tr\u003e\n",
              "    \u003ctr\u003e\n",
              "      \u003cth\u003e(Gccgt, 12.0)\u003c/th\u003e\n",
              "      \u003ctd\u003e0.000000\u003c/td\u003e\n",
              "    \u003c/tr\u003e\n",
              "    \u003ctr\u003e\n",
              "      \u003cth\u003e(Gccgt, 13.0)\u003c/th\u003e\n",
              "      \u003ctd\u003e0.000000\u003c/td\u003e\n",
              "    \u003c/tr\u003e\n",
              "    \u003ctr\u003e\n",
              "      \u003cth\u003e(Gccgt, 14.0)\u003c/th\u003e\n",
              "      \u003ctd\u003e0.000000\u003c/td\u003e\n",
              "    \u003c/tr\u003e\n",
              "    \u003ctr\u003e\n",
              "      \u003cth\u003e(Gccgt, 15.0)\u003c/th\u003e\n",
              "      \u003ctd\u003e0.000000\u003c/td\u003e\n",
              "    \u003c/tr\u003e\n",
              "    \u003ctr\u003e\n",
              "      \u003cth\u003e(Gccgt, 16.0)\u003c/th\u003e\n",
              "      \u003ctd\u003e0.000000\u003c/td\u003e\n",
              "    \u003c/tr\u003e\n",
              "    \u003ctr\u003e\n",
              "      \u003cth\u003e(Gccgt, 17.0)\u003c/th\u003e\n",
              "      \u003ctd\u003e0.000000\u003c/td\u003e\n",
              "    \u003c/tr\u003e\n",
              "    \u003ctr\u003e\n",
              "      \u003cth\u003e(Gccgt, 18.0)\u003c/th\u003e\n",
              "      \u003ctd\u003e0.000000\u003c/td\u003e\n",
              "    \u003c/tr\u003e\n",
              "    \u003ctr\u003e\n",
              "      \u003cth\u003e(Gccgt, 19.0)\u003c/th\u003e\n",
              "      \u003ctd\u003e0.000000\u003c/td\u003e\n",
              "    \u003c/tr\u003e\n",
              "    \u003ctr\u003e\n",
              "      \u003cth\u003e(Gccgt, 20.0)\u003c/th\u003e\n",
              "      \u003ctd\u003e0.000000\u003c/td\u003e\n",
              "    \u003c/tr\u003e\n",
              "    \u003ctr\u003e\n",
              "      \u003cth\u003e(Gccgt, 21.0)\u003c/th\u003e\n",
              "      \u003ctd\u003e0.000000\u003c/td\u003e\n",
              "    \u003c/tr\u003e\n",
              "    \u003ctr\u003e\n",
              "      \u003cth\u003e(Gccgt, 22.0)\u003c/th\u003e\n",
              "      \u003ctd\u003e0.000000\u003c/td\u003e\n",
              "    \u003c/tr\u003e\n",
              "    \u003ctr\u003e\n",
              "      \u003cth\u003e(Gccgt, 23.0)\u003c/th\u003e\n",
              "      \u003ctd\u003e0.000000\u003c/td\u003e\n",
              "    \u003c/tr\u003e\n",
              "    \u003ctr\u003e\n",
              "      \u003cth\u003e(Gccgt, 24.0)\u003c/th\u003e\n",
              "      \u003ctd\u003e0.000000\u003c/td\u003e\n",
              "    \u003c/tr\u003e\n",
              "    \u003ctr\u003e\n",
              "      \u003cth\u003e(Gccgt, 25.0)\u003c/th\u003e\n",
              "      \u003ctd\u003e0.000000\u003c/td\u003e\n",
              "    \u003c/tr\u003e\n",
              "    \u003ctr\u003e\n",
              "      \u003cth\u003e(Gccgt, 26.0)\u003c/th\u003e\n",
              "      \u003ctd\u003e0.000000\u003c/td\u003e\n",
              "    \u003c/tr\u003e\n",
              "    \u003ctr\u003e\n",
              "      \u003cth\u003e(Gccgt, 27.0)\u003c/th\u003e\n",
              "      \u003ctd\u003e0.000000\u003c/td\u003e\n",
              "    \u003c/tr\u003e\n",
              "    \u003ctr\u003e\n",
              "      \u003cth\u003e(Gccgt, 28.0)\u003c/th\u003e\n",
              "      \u003ctd\u003e0.000000\u003c/td\u003e\n",
              "    \u003c/tr\u003e\n",
              "    \u003ctr\u003e\n",
              "      \u003cth\u003e(Gccgt, 29.0)\u003c/th\u003e\n",
              "      \u003ctd\u003e0.000000\u003c/td\u003e\n",
              "    \u003c/tr\u003e\n",
              "    \u003ctr\u003e\n",
              "      \u003cth\u003e(Gccgt, 30.0)\u003c/th\u003e\n",
              "      \u003ctd\u003e0.000000\u003c/td\u003e\n",
              "    \u003c/tr\u003e\n",
              "    \u003ctr\u003e\n",
              "      \u003cth\u003e...\u003c/th\u003e\n",
              "      \u003ctd\u003e...\u003c/td\u003e\n",
              "    \u003c/tr\u003e\n",
              "    \u003ctr\u003e\n",
              "      \u003cth\u003e(Gocgt, 701.0)\u003c/th\u003e\n",
              "      \u003ctd\u003e0.000000\u003c/td\u003e\n",
              "    \u003c/tr\u003e\n",
              "    \u003ctr\u003e\n",
              "      \u003cth\u003e(Gocgt, 702.0)\u003c/th\u003e\n",
              "      \u003ctd\u003e0.000000\u003c/td\u003e\n",
              "    \u003c/tr\u003e\n",
              "    \u003ctr\u003e\n",
              "      \u003cth\u003e(Gocgt, 703.0)\u003c/th\u003e\n",
              "      \u003ctd\u003e0.000000\u003c/td\u003e\n",
              "    \u003c/tr\u003e\n",
              "    \u003ctr\u003e\n",
              "      \u003cth\u003e(Gocgt, 704.0)\u003c/th\u003e\n",
              "      \u003ctd\u003e1008.912218\u003c/td\u003e\n",
              "    \u003c/tr\u003e\n",
              "    \u003ctr\u003e\n",
              "      \u003cth\u003e(Gocgt, 705.0)\u003c/th\u003e\n",
              "      \u003ctd\u003e2739.912218\u003c/td\u003e\n",
              "    \u003c/tr\u003e\n",
              "    \u003ctr\u003e\n",
              "      \u003cth\u003e(Gocgt, 706.0)\u003c/th\u003e\n",
              "      \u003ctd\u003e3385.912218\u003c/td\u003e\n",
              "    \u003c/tr\u003e\n",
              "    \u003ctr\u003e\n",
              "      \u003cth\u003e(Gocgt, 707.0)\u003c/th\u003e\n",
              "      \u003ctd\u003e3245.912218\u003c/td\u003e\n",
              "    \u003c/tr\u003e\n",
              "    \u003ctr\u003e\n",
              "      \u003cth\u003e(Gocgt, 708.0)\u003c/th\u003e\n",
              "      \u003ctd\u003e2760.912218\u003c/td\u003e\n",
              "    \u003c/tr\u003e\n",
              "    \u003ctr\u003e\n",
              "      \u003cth\u003e(Gocgt, 709.0)\u003c/th\u003e\n",
              "      \u003ctd\u003e2052.912218\u003c/td\u003e\n",
              "    \u003c/tr\u003e\n",
              "    \u003ctr\u003e\n",
              "      \u003cth\u003e(Gocgt, 710.0)\u003c/th\u003e\n",
              "      \u003ctd\u003e1177.912218\u003c/td\u003e\n",
              "    \u003c/tr\u003e\n",
              "    \u003ctr\u003e\n",
              "      \u003cth\u003e(Gocgt, 711.0)\u003c/th\u003e\n",
              "      \u003ctd\u003e952.912218\u003c/td\u003e\n",
              "    \u003c/tr\u003e\n",
              "    \u003ctr\u003e\n",
              "      \u003cth\u003e(Gocgt, 712.0)\u003c/th\u003e\n",
              "      \u003ctd\u003e1034.912218\u003c/td\u003e\n",
              "    \u003c/tr\u003e\n",
              "    \u003ctr\u003e\n",
              "      \u003cth\u003e(Gocgt, 713.0)\u003c/th\u003e\n",
              "      \u003ctd\u003e3329.912218\u003c/td\u003e\n",
              "    \u003c/tr\u003e\n",
              "    \u003ctr\u003e\n",
              "      \u003cth\u003e(Gocgt, 714.0)\u003c/th\u003e\n",
              "      \u003ctd\u003e7175.912218\u003c/td\u003e\n",
              "    \u003c/tr\u003e\n",
              "    \u003ctr\u003e\n",
              "      \u003cth\u003e(Gocgt, 715.0)\u003c/th\u003e\n",
              "      \u003ctd\u003e6550.912218\u003c/td\u003e\n",
              "    \u003c/tr\u003e\n",
              "    \u003ctr\u003e\n",
              "      \u003cth\u003e(Gocgt, 716.0)\u003c/th\u003e\n",
              "      \u003ctd\u003e4150.912218\u003c/td\u003e\n",
              "    \u003c/tr\u003e\n",
              "    \u003ctr\u003e\n",
              "      \u003cth\u003e(Gocgt, 717.0)\u003c/th\u003e\n",
              "      \u003ctd\u003e1096.912218\u003c/td\u003e\n",
              "    \u003c/tr\u003e\n",
              "    \u003ctr\u003e\n",
              "      \u003cth\u003e(Gocgt, 718.0)\u003c/th\u003e\n",
              "      \u003ctd\u003e0.000000\u003c/td\u003e\n",
              "    \u003c/tr\u003e\n",
              "    \u003ctr\u003e\n",
              "      \u003cth\u003e(Gocgt, 719.0)\u003c/th\u003e\n",
              "      \u003ctd\u003e0.000000\u003c/td\u003e\n",
              "    \u003c/tr\u003e\n",
              "    \u003ctr\u003e\n",
              "      \u003cth\u003e(Gocgt, 720.0)\u003c/th\u003e\n",
              "      \u003ctd\u003e0.000000\u003c/td\u003e\n",
              "    \u003c/tr\u003e\n",
              "    \u003ctr\u003e\n",
              "      \u003cth\u003e(Gocgt, 721.0)\u003c/th\u003e\n",
              "      \u003ctd\u003e0.000000\u003c/td\u003e\n",
              "    \u003c/tr\u003e\n",
              "    \u003ctr\u003e\n",
              "      \u003cth\u003e(Gocgt, 722.0)\u003c/th\u003e\n",
              "      \u003ctd\u003e0.000000\u003c/td\u003e\n",
              "    \u003c/tr\u003e\n",
              "    \u003ctr\u003e\n",
              "      \u003cth\u003e(Gocgt, 723.0)\u003c/th\u003e\n",
              "      \u003ctd\u003e0.000000\u003c/td\u003e\n",
              "    \u003c/tr\u003e\n",
              "    \u003ctr\u003e\n",
              "      \u003cth\u003e(Gocgt, 724.0)\u003c/th\u003e\n",
              "      \u003ctd\u003e0.000000\u003c/td\u003e\n",
              "    \u003c/tr\u003e\n",
              "    \u003ctr\u003e\n",
              "      \u003cth\u003e(Gocgt, 725.0)\u003c/th\u003e\n",
              "      \u003ctd\u003e0.000000\u003c/td\u003e\n",
              "    \u003c/tr\u003e\n",
              "    \u003ctr\u003e\n",
              "      \u003cth\u003e(Gocgt, 726.0)\u003c/th\u003e\n",
              "      \u003ctd\u003e0.000000\u003c/td\u003e\n",
              "    \u003c/tr\u003e\n",
              "    \u003ctr\u003e\n",
              "      \u003cth\u003e(Gocgt, 727.0)\u003c/th\u003e\n",
              "      \u003ctd\u003e0.000000\u003c/td\u003e\n",
              "    \u003c/tr\u003e\n",
              "    \u003ctr\u003e\n",
              "      \u003cth\u003e(Gocgt, 728.0)\u003c/th\u003e\n",
              "      \u003ctd\u003e0.000000\u003c/td\u003e\n",
              "    \u003c/tr\u003e\n",
              "    \u003ctr\u003e\n",
              "      \u003cth\u003e(Gocgt, 729.0)\u003c/th\u003e\n",
              "      \u003ctd\u003e0.000000\u003c/td\u003e\n",
              "    \u003c/tr\u003e\n",
              "    \u003ctr\u003e\n",
              "      \u003cth\u003e(Gocgt, 730.0)\u003c/th\u003e\n",
              "      \u003ctd\u003e0.000000\u003c/td\u003e\n",
              "    \u003c/tr\u003e\n",
              "  \u003c/tbody\u003e\n",
              "\u003c/table\u003e\n",
              "\u003cp\u003e3650 rows × 1 columns\u003c/p\u003e\n",
              "\u003c/div\u003e"
            ],
            "text/plain": [
              "                     pG.val\n",
              "(Gccgt, 1.0)       0.000000\n",
              "(Gccgt, 2.0)       0.000000\n",
              "(Gccgt, 3.0)       0.000000\n",
              "(Gccgt, 4.0)       0.000000\n",
              "(Gccgt, 5.0)       0.000000\n",
              "(Gccgt, 6.0)       0.000000\n",
              "(Gccgt, 7.0)       0.000000\n",
              "(Gccgt, 8.0)       0.000000\n",
              "(Gccgt, 9.0)       0.000000\n",
              "(Gccgt, 10.0)      0.000000\n",
              "(Gccgt, 11.0)      0.000000\n",
              "(Gccgt, 12.0)      0.000000\n",
              "(Gccgt, 13.0)      0.000000\n",
              "(Gccgt, 14.0)      0.000000\n",
              "(Gccgt, 15.0)      0.000000\n",
              "(Gccgt, 16.0)      0.000000\n",
              "(Gccgt, 17.0)      0.000000\n",
              "(Gccgt, 18.0)      0.000000\n",
              "(Gccgt, 19.0)      0.000000\n",
              "(Gccgt, 20.0)      0.000000\n",
              "(Gccgt, 21.0)      0.000000\n",
              "(Gccgt, 22.0)      0.000000\n",
              "(Gccgt, 23.0)      0.000000\n",
              "(Gccgt, 24.0)      0.000000\n",
              "(Gccgt, 25.0)      0.000000\n",
              "(Gccgt, 26.0)      0.000000\n",
              "(Gccgt, 27.0)      0.000000\n",
              "(Gccgt, 28.0)      0.000000\n",
              "(Gccgt, 29.0)      0.000000\n",
              "(Gccgt, 30.0)      0.000000\n",
              "...                     ...\n",
              "(Gocgt, 701.0)     0.000000\n",
              "(Gocgt, 702.0)     0.000000\n",
              "(Gocgt, 703.0)     0.000000\n",
              "(Gocgt, 704.0)  1008.912218\n",
              "(Gocgt, 705.0)  2739.912218\n",
              "(Gocgt, 706.0)  3385.912218\n",
              "(Gocgt, 707.0)  3245.912218\n",
              "(Gocgt, 708.0)  2760.912218\n",
              "(Gocgt, 709.0)  2052.912218\n",
              "(Gocgt, 710.0)  1177.912218\n",
              "(Gocgt, 711.0)   952.912218\n",
              "(Gocgt, 712.0)  1034.912218\n",
              "(Gocgt, 713.0)  3329.912218\n",
              "(Gocgt, 714.0)  7175.912218\n",
              "(Gocgt, 715.0)  6550.912218\n",
              "(Gocgt, 716.0)  4150.912218\n",
              "(Gocgt, 717.0)  1096.912218\n",
              "(Gocgt, 718.0)     0.000000\n",
              "(Gocgt, 719.0)     0.000000\n",
              "(Gocgt, 720.0)     0.000000\n",
              "(Gocgt, 721.0)     0.000000\n",
              "(Gocgt, 722.0)     0.000000\n",
              "(Gocgt, 723.0)     0.000000\n",
              "(Gocgt, 724.0)     0.000000\n",
              "(Gocgt, 725.0)     0.000000\n",
              "(Gocgt, 726.0)     0.000000\n",
              "(Gocgt, 727.0)     0.000000\n",
              "(Gocgt, 728.0)     0.000000\n",
              "(Gocgt, 729.0)     0.000000\n",
              "(Gocgt, 730.0)     0.000000\n",
              "\n",
              "[3650 rows x 1 columns]"
            ]
          },
          "execution_count": 30,
          "metadata": {},
          "output_type": "execute_result"
        }
      ],
      "source": [
        "ampl.getVariable(\u0027pG\u0027).getValues().toPandas()"
      ]
    },
    {
      "cell_type": "code",
      "execution_count": null,
      "metadata": {
        "pycharm": {}
      },
      "outputs": [],
      "source": []
    }
  ],
  "metadata": {
    "@webio": {
      "lastCommId": null,
      "lastKernelId": null
    },
    "kernelspec": {
      "display_name": "Python 3",
      "language": "python",
      "name": "python3"
    },
    "language_info": {
      "codemirror_mode": {
        "name": "ipython",
        "version": 3
      },
      "file_extension": ".py",
      "mimetype": "text/x-python",
      "name": "python",
      "nbconvert_exporter": "python",
      "pygments_lexer": "ipython3",
      "version": "3.6.8"
    }
  },
  "nbformat": 4,
  "nbformat_minor": 2
}