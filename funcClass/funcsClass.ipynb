{
 "cells": [
  {
   "cell_type": "markdown",
   "metadata": {
    "pycharm": {}
   },
   "source": [
    "# Practical implementation CESI Model Integration Environment\n\nThis is a practical implementation of the conceptual thoughts and schematic framework discussed in document [[ref]](./CESIModelling.pdf). The main class as:\n\n<p align=\"center\">\n  <img width=\"600\" height=\"200\" src=\"MainFunction.png\">\n</p>\n\nThese codes implement the suggested skeleton functions including:\n\n    1. [x] solve()\n    2. [x] getSets()\n    3. [*] getInput()\n    4. [*] getOutput()\n    5. [x] getValue()\n    6. [*] getDerivative/getSensitivity()\n\nThe implemntation is *not* exactly the same as the conceptual idea. Main differences are:\n\n- (1) and (2) are replace with \n - getSets() and getParameters()\n \nsince sets is part of inputs, while inputs normally are the sets and parameters\n \n \n- the (4) is replaced with  \n - getVariable() and getObjective()\n\n\n- (5) is a general function to get the value from handler of entities\n \nThe schematic illustration of entities structure can be shown as:\n\n<p align=\"center\">\n  <img width=\"600\" height=\"200\" src=\"SchameticDataStructure.png\">\n</p>\n\n---\nAddtional function which is reckoned as of importance is also included:\n1. option()\n\t-  set global setting. for example it could be the solving options\n... \n\nCreated by Dr. W SUN on 03/08/2019"
   ]
  },
  {
   "cell_type": "code",
   "execution_count": 15,
   "metadata": {
    "pycharm": {}
   },
   "outputs": [],
   "source": [
    "# install python API of language that the model is built on\n",
    "# In this example, it's AMPL python API\n",
    "import os\n",
    "os.environ['PATH'] += os.pathsep + r'c:\\ampl.mswin64'"
   ]
  },
  {
   "cell_type": "code",
   "execution_count": 16,
   "metadata": {
    "pycharm": {}
   },
   "outputs": [],
   "source": [
    "# load API and intialisaiton the linkgae\n",
    "from amplpy import AMPL\n",
    "ampl = AMPL()"
   ]
  },
  {
   "cell_type": "markdown",
   "metadata": {
    "pycharm": {}
   },
   "source": [
    "## option(): set globle setting"
   ]
  },
  {
   "cell_type": "code",
   "execution_count": 17,
   "metadata": {
    "pycharm": {}
   },
   "outputs": [],
   "source": [
    "# for example it could be the solving options\n",
    "ampl.option['solver'] = 'gurobi'\n",
    "ampl.option['gurobi_options'] = 'solnsens 1'"
   ]
  },
  {
   "cell_type": "code",
   "execution_count": 18,
   "metadata": {
    "pycharm": {}
   },
   "outputs": [
    {
     "name": "stdout",
     "output_type": "stream",
     "text": [
      "SUBPROBLEM\n"
     ]
    }
   ],
   "source": [
    "# read the model instance (model instance: the model with populated data)\n",
    "ampl.cd('../Workplace/MathTrial/Julia-AMPL-master/julia_ampl/ampl')\n",
    "ampl.read(\"Operational-ini.run\")"
   ]
  },
  {
   "cell_type": "markdown",
   "metadata": {
    "pycharm": {
     "metadata": false,
     "name": "#%% md\n"
    }
   },
   "source": [
    "![alt text](uml_ampl.png#center)"
   ]
  },
  {
   "cell_type": "markdown",
   "metadata": {
    "pycharm": {}
   },
   "source": [
    "## getInputs()"
   ]
  },
  {
   "cell_type": "code",
   "execution_count": 19,
   "metadata": {
    "pycharm": {}
   },
   "outputs": [
    {
     "name": "stdout",
     "output_type": "stream",
     "text": [
      "list all input set:\n",
      "sF\n",
      "sG\n",
      "sT\n"
     ]
    }
   ],
   "source": [
    "# the entities of the model instance\n",
    "# entity such as decleared set, parameter or variable (they are predefined entities)\n",
    "\n",
    "# sets from inputData\n",
    "print('list all input set:') \n",
    "for s in ampl.getSets():\n",
    "    print(s[0])"
   ]
  },
  {
   "cell_type": "code",
   "execution_count": 20,
   "metadata": {
    "pycharm": {}
   },
   "outputs": [
    {
     "name": "stdout",
     "output_type": "stream",
     "text": [
      "list all input parameter:\n",
      "Alpha\n",
      "CG\n",
      "Cfuel\n",
      "Dem\n",
      "DiscCost\n",
      "EG\n",
      "VrOM\n",
      "W\n",
      "f\n",
      "pG_ub\n"
     ]
    }
   ],
   "source": [
    "# parameters from inputData\n",
    "print('list all input parameter:')\n",
    "for e in ampl.getParameters():\n",
    "    print(e[0])"
   ]
  },
  {
   "cell_type": "markdown",
   "metadata": {
    "pycharm": {}
   },
   "source": [
    "## getOuputs()"
   ]
  },
  {
   "cell_type": "code",
   "execution_count": 21,
   "metadata": {
    "pycharm": {}
   },
   "outputs": [
    {
     "name": "stdout",
     "output_type": "stream",
     "text": [
      "list all ouput:\n",
      "pG\n",
      "pG_max\n",
      "shed\n"
     ]
    }
   ],
   "source": [
    "# get deleared output, such as variable, etc\n",
    "# variable from from model output\n",
    "print('list all ouput:')\n",
    "for v in ampl.getVariables():\n",
    "    print(v[0])"
   ]
  },
  {
   "cell_type": "markdown",
   "metadata": {
    "pycharm": {}
   },
   "source": [
    "## getProperties(): field/properties of entities"
   ]
  },
  {
   "cell_type": "code",
   "execution_count": 22,
   "metadata": {
    "pycharm": {}
   },
   "outputs": [
    {
     "data": {
      "text/plain": [
       "('index0', 'Dem')"
      ]
     },
     "execution_count": 22,
     "metadata": {},
     "output_type": "execute_result"
    }
   ],
   "source": [
    "# for example, input data (set and parameters)\n",
    "# get its field\n",
    "ampl.getParameter('Dem').getValues().getHeaders()"
   ]
  },
  {
   "cell_type": "code",
   "execution_count": 23,
   "metadata": {
    "pycharm": {}
   },
   "outputs": [
    {
     "data": {
      "text/plain": [
       "['sT']"
      ]
     },
     "execution_count": 23,
     "metadata": {},
     "output_type": "execute_result"
    }
   ],
   "source": [
    "# get indexed set name\n",
    "ampl.getParameter('Dem').getIndexingSets()"
   ]
  },
  {
   "cell_type": "code",
   "execution_count": 24,
   "metadata": {
    "pycharm": {}
   },
   "outputs": [
    {
     "data": {
      "text/plain": [
       "['sG', 'sT']"
      ]
     },
     "execution_count": 24,
     "metadata": {},
     "output_type": "execute_result"
    }
   ],
   "source": [
    "ampl.getVariable('pG').getIndexingSets()"
   ]
  },
  {
   "cell_type": "markdown",
   "metadata": {
    "pycharm": {}
   },
   "source": [
    "## getValue(): value of entities"
   ]
  },
  {
   "cell_type": "code",
   "execution_count": 25,
   "metadata": {
    "pycharm": {}
   },
   "outputs": [
    {
     "data": {
      "text/plain": [
       "['Gnucl', 'Gcoal', 'Gccgt', 'Gocgt', 'Gdies']"
      ]
     },
     "execution_count": 25,
     "metadata": {},
     "output_type": "execute_result"
    }
   ],
   "source": [
    "ampl.set['sG'].getValues().toList()"
   ]
  },
  {
   "cell_type": "markdown",
   "metadata": {
    "pycharm": {}
   },
   "source": [
    "## solve(): solve the model"
   ]
  },
  {
   "cell_type": "code",
   "execution_count": 26,
   "metadata": {
    "pycharm": {}
   },
   "outputs": [
    {
     "name": "stdout",
     "output_type": "stream",
     "text": [
      "Gurobi 8.1.0: solnsens 1\r\n",
      "Gurobi 8.1.0: optimal solution; objective 5340643738\n",
      "730 simplex iterations\n",
      "\n",
      "suffix sensublo OUT;\n",
      "suffix sensubhi OUT;\n",
      "suffix sensobjlo OUT;\n",
      "suffix sensobjhi OUT;\n",
      "suffix senslblo OUT;\n",
      "suffix senslbhi OUT;\n",
      "suffix sensrhslo OUT;\n",
      "suffix sensrhshi OUT;\n"
     ]
    }
   ],
   "source": [
    "# run(`ampl Operational.run`) # run operational subproblem in ampl\n",
    "ampl.solve()"
   ]
  },
  {
   "cell_type": "code",
   "execution_count": 27,
   "metadata": {
    "pycharm": {
     "metadata": false,
     "name": "#%%\n"
    }
   },
   "outputs": [
    {
     "data": {
      "text/plain": [
       "5340643738.127462"
      ]
     },
     "execution_count": 27,
     "metadata": {},
     "output_type": "execute_result"
    }
   ],
   "source": [
    "ampl.getValue('oper')"
   ]
  },
  {
   "cell_type": "code",
   "execution_count": 30,
   "metadata": {
    "pycharm": {
     "metadata": false,
     "name": "#%%\n"
    }
   },
   "outputs": [
    {
     "data": {
      "text/html": [
       "<div>\n",
       "<style scoped>\n",
       "    .dataframe tbody tr th:only-of-type {\n",
       "        vertical-align: middle;\n",
       "    }\n",
       "\n",
       "    .dataframe tbody tr th {\n",
       "        vertical-align: top;\n",
       "    }\n",
       "\n",
       "    .dataframe thead th {\n",
       "        text-align: right;\n",
       "    }\n",
       "</style>\n",
       "<table border=\"1\" class=\"dataframe\">\n",
       "  <thead>\n",
       "    <tr style=\"text-align: right;\">\n",
       "      <th></th>\n",
       "      <th>pG.val</th>\n",
       "    </tr>\n",
       "  </thead>\n",
       "  <tbody>\n",
       "    <tr>\n",
       "      <th>(Gccgt, 1.0)</th>\n",
       "      <td>0.000000</td>\n",
       "    </tr>\n",
       "    <tr>\n",
       "      <th>(Gccgt, 2.0)</th>\n",
       "      <td>0.000000</td>\n",
       "    </tr>\n",
       "    <tr>\n",
       "      <th>(Gccgt, 3.0)</th>\n",
       "      <td>0.000000</td>\n",
       "    </tr>\n",
       "    <tr>\n",
       "      <th>(Gccgt, 4.0)</th>\n",
       "      <td>0.000000</td>\n",
       "    </tr>\n",
       "    <tr>\n",
       "      <th>(Gccgt, 5.0)</th>\n",
       "      <td>0.000000</td>\n",
       "    </tr>\n",
       "    <tr>\n",
       "      <th>(Gccgt, 6.0)</th>\n",
       "      <td>0.000000</td>\n",
       "    </tr>\n",
       "    <tr>\n",
       "      <th>(Gccgt, 7.0)</th>\n",
       "      <td>0.000000</td>\n",
       "    </tr>\n",
       "    <tr>\n",
       "      <th>(Gccgt, 8.0)</th>\n",
       "      <td>0.000000</td>\n",
       "    </tr>\n",
       "    <tr>\n",
       "      <th>(Gccgt, 9.0)</th>\n",
       "      <td>0.000000</td>\n",
       "    </tr>\n",
       "    <tr>\n",
       "      <th>(Gccgt, 10.0)</th>\n",
       "      <td>0.000000</td>\n",
       "    </tr>\n",
       "    <tr>\n",
       "      <th>(Gccgt, 11.0)</th>\n",
       "      <td>0.000000</td>\n",
       "    </tr>\n",
       "    <tr>\n",
       "      <th>(Gccgt, 12.0)</th>\n",
       "      <td>0.000000</td>\n",
       "    </tr>\n",
       "    <tr>\n",
       "      <th>(Gccgt, 13.0)</th>\n",
       "      <td>0.000000</td>\n",
       "    </tr>\n",
       "    <tr>\n",
       "      <th>(Gccgt, 14.0)</th>\n",
       "      <td>0.000000</td>\n",
       "    </tr>\n",
       "    <tr>\n",
       "      <th>(Gccgt, 15.0)</th>\n",
       "      <td>0.000000</td>\n",
       "    </tr>\n",
       "    <tr>\n",
       "      <th>(Gccgt, 16.0)</th>\n",
       "      <td>0.000000</td>\n",
       "    </tr>\n",
       "    <tr>\n",
       "      <th>(Gccgt, 17.0)</th>\n",
       "      <td>0.000000</td>\n",
       "    </tr>\n",
       "    <tr>\n",
       "      <th>(Gccgt, 18.0)</th>\n",
       "      <td>0.000000</td>\n",
       "    </tr>\n",
       "    <tr>\n",
       "      <th>(Gccgt, 19.0)</th>\n",
       "      <td>0.000000</td>\n",
       "    </tr>\n",
       "    <tr>\n",
       "      <th>(Gccgt, 20.0)</th>\n",
       "      <td>0.000000</td>\n",
       "    </tr>\n",
       "    <tr>\n",
       "      <th>(Gccgt, 21.0)</th>\n",
       "      <td>0.000000</td>\n",
       "    </tr>\n",
       "    <tr>\n",
       "      <th>(Gccgt, 22.0)</th>\n",
       "      <td>0.000000</td>\n",
       "    </tr>\n",
       "    <tr>\n",
       "      <th>(Gccgt, 23.0)</th>\n",
       "      <td>0.000000</td>\n",
       "    </tr>\n",
       "    <tr>\n",
       "      <th>(Gccgt, 24.0)</th>\n",
       "      <td>0.000000</td>\n",
       "    </tr>\n",
       "    <tr>\n",
       "      <th>(Gccgt, 25.0)</th>\n",
       "      <td>0.000000</td>\n",
       "    </tr>\n",
       "    <tr>\n",
       "      <th>(Gccgt, 26.0)</th>\n",
       "      <td>0.000000</td>\n",
       "    </tr>\n",
       "    <tr>\n",
       "      <th>(Gccgt, 27.0)</th>\n",
       "      <td>0.000000</td>\n",
       "    </tr>\n",
       "    <tr>\n",
       "      <th>(Gccgt, 28.0)</th>\n",
       "      <td>0.000000</td>\n",
       "    </tr>\n",
       "    <tr>\n",
       "      <th>(Gccgt, 29.0)</th>\n",
       "      <td>0.000000</td>\n",
       "    </tr>\n",
       "    <tr>\n",
       "      <th>(Gccgt, 30.0)</th>\n",
       "      <td>0.000000</td>\n",
       "    </tr>\n",
       "    <tr>\n",
       "      <th>...</th>\n",
       "      <td>...</td>\n",
       "    </tr>\n",
       "    <tr>\n",
       "      <th>(Gocgt, 701.0)</th>\n",
       "      <td>0.000000</td>\n",
       "    </tr>\n",
       "    <tr>\n",
       "      <th>(Gocgt, 702.0)</th>\n",
       "      <td>0.000000</td>\n",
       "    </tr>\n",
       "    <tr>\n",
       "      <th>(Gocgt, 703.0)</th>\n",
       "      <td>0.000000</td>\n",
       "    </tr>\n",
       "    <tr>\n",
       "      <th>(Gocgt, 704.0)</th>\n",
       "      <td>1008.912218</td>\n",
       "    </tr>\n",
       "    <tr>\n",
       "      <th>(Gocgt, 705.0)</th>\n",
       "      <td>2739.912218</td>\n",
       "    </tr>\n",
       "    <tr>\n",
       "      <th>(Gocgt, 706.0)</th>\n",
       "      <td>3385.912218</td>\n",
       "    </tr>\n",
       "    <tr>\n",
       "      <th>(Gocgt, 707.0)</th>\n",
       "      <td>3245.912218</td>\n",
       "    </tr>\n",
       "    <tr>\n",
       "      <th>(Gocgt, 708.0)</th>\n",
       "      <td>2760.912218</td>\n",
       "    </tr>\n",
       "    <tr>\n",
       "      <th>(Gocgt, 709.0)</th>\n",
       "      <td>2052.912218</td>\n",
       "    </tr>\n",
       "    <tr>\n",
       "      <th>(Gocgt, 710.0)</th>\n",
       "      <td>1177.912218</td>\n",
       "    </tr>\n",
       "    <tr>\n",
       "      <th>(Gocgt, 711.0)</th>\n",
       "      <td>952.912218</td>\n",
       "    </tr>\n",
       "    <tr>\n",
       "      <th>(Gocgt, 712.0)</th>\n",
       "      <td>1034.912218</td>\n",
       "    </tr>\n",
       "    <tr>\n",
       "      <th>(Gocgt, 713.0)</th>\n",
       "      <td>3329.912218</td>\n",
       "    </tr>\n",
       "    <tr>\n",
       "      <th>(Gocgt, 714.0)</th>\n",
       "      <td>7175.912218</td>\n",
       "    </tr>\n",
       "    <tr>\n",
       "      <th>(Gocgt, 715.0)</th>\n",
       "      <td>6550.912218</td>\n",
       "    </tr>\n",
       "    <tr>\n",
       "      <th>(Gocgt, 716.0)</th>\n",
       "      <td>4150.912218</td>\n",
       "    </tr>\n",
       "    <tr>\n",
       "      <th>(Gocgt, 717.0)</th>\n",
       "      <td>1096.912218</td>\n",
       "    </tr>\n",
       "    <tr>\n",
       "      <th>(Gocgt, 718.0)</th>\n",
       "      <td>0.000000</td>\n",
       "    </tr>\n",
       "    <tr>\n",
       "      <th>(Gocgt, 719.0)</th>\n",
       "      <td>0.000000</td>\n",
       "    </tr>\n",
       "    <tr>\n",
       "      <th>(Gocgt, 720.0)</th>\n",
       "      <td>0.000000</td>\n",
       "    </tr>\n",
       "    <tr>\n",
       "      <th>(Gocgt, 721.0)</th>\n",
       "      <td>0.000000</td>\n",
       "    </tr>\n",
       "    <tr>\n",
       "      <th>(Gocgt, 722.0)</th>\n",
       "      <td>0.000000</td>\n",
       "    </tr>\n",
       "    <tr>\n",
       "      <th>(Gocgt, 723.0)</th>\n",
       "      <td>0.000000</td>\n",
       "    </tr>\n",
       "    <tr>\n",
       "      <th>(Gocgt, 724.0)</th>\n",
       "      <td>0.000000</td>\n",
       "    </tr>\n",
       "    <tr>\n",
       "      <th>(Gocgt, 725.0)</th>\n",
       "      <td>0.000000</td>\n",
       "    </tr>\n",
       "    <tr>\n",
       "      <th>(Gocgt, 726.0)</th>\n",
       "      <td>0.000000</td>\n",
       "    </tr>\n",
       "    <tr>\n",
       "      <th>(Gocgt, 727.0)</th>\n",
       "      <td>0.000000</td>\n",
       "    </tr>\n",
       "    <tr>\n",
       "      <th>(Gocgt, 728.0)</th>\n",
       "      <td>0.000000</td>\n",
       "    </tr>\n",
       "    <tr>\n",
       "      <th>(Gocgt, 729.0)</th>\n",
       "      <td>0.000000</td>\n",
       "    </tr>\n",
       "    <tr>\n",
       "      <th>(Gocgt, 730.0)</th>\n",
       "      <td>0.000000</td>\n",
       "    </tr>\n",
       "  </tbody>\n",
       "</table>\n",
       "<p>3650 rows × 1 columns</p>\n",
       "</div>"
      ],
      "text/plain": [
       "                     pG.val\n",
       "(Gccgt, 1.0)       0.000000\n",
       "(Gccgt, 2.0)       0.000000\n",
       "(Gccgt, 3.0)       0.000000\n",
       "(Gccgt, 4.0)       0.000000\n",
       "(Gccgt, 5.0)       0.000000\n",
       "(Gccgt, 6.0)       0.000000\n",
       "(Gccgt, 7.0)       0.000000\n",
       "(Gccgt, 8.0)       0.000000\n",
       "(Gccgt, 9.0)       0.000000\n",
       "(Gccgt, 10.0)      0.000000\n",
       "(Gccgt, 11.0)      0.000000\n",
       "(Gccgt, 12.0)      0.000000\n",
       "(Gccgt, 13.0)      0.000000\n",
       "(Gccgt, 14.0)      0.000000\n",
       "(Gccgt, 15.0)      0.000000\n",
       "(Gccgt, 16.0)      0.000000\n",
       "(Gccgt, 17.0)      0.000000\n",
       "(Gccgt, 18.0)      0.000000\n",
       "(Gccgt, 19.0)      0.000000\n",
       "(Gccgt, 20.0)      0.000000\n",
       "(Gccgt, 21.0)      0.000000\n",
       "(Gccgt, 22.0)      0.000000\n",
       "(Gccgt, 23.0)      0.000000\n",
       "(Gccgt, 24.0)      0.000000\n",
       "(Gccgt, 25.0)      0.000000\n",
       "(Gccgt, 26.0)      0.000000\n",
       "(Gccgt, 27.0)      0.000000\n",
       "(Gccgt, 28.0)      0.000000\n",
       "(Gccgt, 29.0)      0.000000\n",
       "(Gccgt, 30.0)      0.000000\n",
       "...                     ...\n",
       "(Gocgt, 701.0)     0.000000\n",
       "(Gocgt, 702.0)     0.000000\n",
       "(Gocgt, 703.0)     0.000000\n",
       "(Gocgt, 704.0)  1008.912218\n",
       "(Gocgt, 705.0)  2739.912218\n",
       "(Gocgt, 706.0)  3385.912218\n",
       "(Gocgt, 707.0)  3245.912218\n",
       "(Gocgt, 708.0)  2760.912218\n",
       "(Gocgt, 709.0)  2052.912218\n",
       "(Gocgt, 710.0)  1177.912218\n",
       "(Gocgt, 711.0)   952.912218\n",
       "(Gocgt, 712.0)  1034.912218\n",
       "(Gocgt, 713.0)  3329.912218\n",
       "(Gocgt, 714.0)  7175.912218\n",
       "(Gocgt, 715.0)  6550.912218\n",
       "(Gocgt, 716.0)  4150.912218\n",
       "(Gocgt, 717.0)  1096.912218\n",
       "(Gocgt, 718.0)     0.000000\n",
       "(Gocgt, 719.0)     0.000000\n",
       "(Gocgt, 720.0)     0.000000\n",
       "(Gocgt, 721.0)     0.000000\n",
       "(Gocgt, 722.0)     0.000000\n",
       "(Gocgt, 723.0)     0.000000\n",
       "(Gocgt, 724.0)     0.000000\n",
       "(Gocgt, 725.0)     0.000000\n",
       "(Gocgt, 726.0)     0.000000\n",
       "(Gocgt, 727.0)     0.000000\n",
       "(Gocgt, 728.0)     0.000000\n",
       "(Gocgt, 729.0)     0.000000\n",
       "(Gocgt, 730.0)     0.000000\n",
       "\n",
       "[3650 rows x 1 columns]"
      ]
     },
     "execution_count": 30,
     "metadata": {},
     "output_type": "execute_result"
    }
   ],
   "source": [
    "ampl.getVariable('pG').getValues().toPandas()\n"
   ]
  }
 ],
 "metadata": {
  "@webio": {
   "lastCommId": null,
   "lastKernelId": null
  },
  "kernelspec": {
   "display_name": "Python 3",
   "language": "python",
   "name": "python3"
  },
  "language_info": {
   "codemirror_mode": {
    "name": "ipython",
    "version": 3
   },
   "file_extension": ".py",
   "mimetype": "text/x-python",
   "name": "python",
   "nbconvert_exporter": "python",
   "pygments_lexer": "ipython3",
   "version": "3.6.8"
  }
 },
 "nbformat": 4,
 "nbformat_minor": 2
}
